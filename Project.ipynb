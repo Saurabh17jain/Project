{
  "nbformat": 4,
  "nbformat_minor": 0,
  "metadata": {
    "colab": {
      "provenance": [],
      "authorship_tag": "ABX9TyOWwaoxfYDgqjuNyxV+8hbf",
      "include_colab_link": true
    },
    "kernelspec": {
      "name": "python3",
      "display_name": "Python 3"
    },
    "language_info": {
      "name": "python"
    },
    "widgets": {
      "application/vnd.jupyter.widget-state+json": {
        "6db19ab59879483b8ff14feab226f951": {
          "model_module": "@jupyter-widgets/controls",
          "model_name": "HBoxModel",
          "model_module_version": "1.5.0",
          "state": {
            "_dom_classes": [],
            "_model_module": "@jupyter-widgets/controls",
            "_model_module_version": "1.5.0",
            "_model_name": "HBoxModel",
            "_view_count": null,
            "_view_module": "@jupyter-widgets/controls",
            "_view_module_version": "1.5.0",
            "_view_name": "HBoxView",
            "box_style": "",
            "children": [
              "IPY_MODEL_053b352d06bc4d5a92dbab1112f62fa7",
              "IPY_MODEL_9c158c191e7c4c1f92076c57f58d60af",
              "IPY_MODEL_007ff67bd3414f9fa3d9f82e08fdbbac"
            ],
            "layout": "IPY_MODEL_9f93c78d4a7e4d16a8659382e7adaf3b"
          }
        },
        "053b352d06bc4d5a92dbab1112f62fa7": {
          "model_module": "@jupyter-widgets/controls",
          "model_name": "HTMLModel",
          "model_module_version": "1.5.0",
          "state": {
            "_dom_classes": [],
            "_model_module": "@jupyter-widgets/controls",
            "_model_module_version": "1.5.0",
            "_model_name": "HTMLModel",
            "_view_count": null,
            "_view_module": "@jupyter-widgets/controls",
            "_view_module_version": "1.5.0",
            "_view_name": "HTMLView",
            "description": "",
            "description_tooltip": null,
            "layout": "IPY_MODEL_ed2b10d4ff3c4ebea41a9348dc8ed31c",
            "placeholder": "​",
            "style": "IPY_MODEL_0ab990aebe5a465f88da26b384e8fd12",
            "value": "Processing: 100%"
          }
        },
        "9c158c191e7c4c1f92076c57f58d60af": {
          "model_module": "@jupyter-widgets/controls",
          "model_name": "FloatProgressModel",
          "model_module_version": "1.5.0",
          "state": {
            "_dom_classes": [],
            "_model_module": "@jupyter-widgets/controls",
            "_model_module_version": "1.5.0",
            "_model_name": "FloatProgressModel",
            "_view_count": null,
            "_view_module": "@jupyter-widgets/controls",
            "_view_module_version": "1.5.0",
            "_view_name": "ProgressView",
            "bar_style": "",
            "description": "",
            "description_tooltip": null,
            "layout": "IPY_MODEL_80d7865457074ea09f27022f5f904117",
            "max": 81,
            "min": 0,
            "orientation": "horizontal",
            "style": "IPY_MODEL_aea8d12329e047f0a7c9d10fd4ec55fb",
            "value": 81
          }
        },
        "007ff67bd3414f9fa3d9f82e08fdbbac": {
          "model_module": "@jupyter-widgets/controls",
          "model_name": "HTMLModel",
          "model_module_version": "1.5.0",
          "state": {
            "_dom_classes": [],
            "_model_module": "@jupyter-widgets/controls",
            "_model_module_version": "1.5.0",
            "_model_name": "HTMLModel",
            "_view_count": null,
            "_view_module": "@jupyter-widgets/controls",
            "_view_module_version": "1.5.0",
            "_view_name": "HTMLView",
            "description": "",
            "description_tooltip": null,
            "layout": "IPY_MODEL_e19acb40792f4ec9a75122a9d1a1d545",
            "placeholder": "​",
            "style": "IPY_MODEL_979cda5d0dc942aabd9bad8d28101c58",
            "value": " 81/81 [01:42&lt;00:00,  1.13it/s]"
          }
        },
        "9f93c78d4a7e4d16a8659382e7adaf3b": {
          "model_module": "@jupyter-widgets/base",
          "model_name": "LayoutModel",
          "model_module_version": "1.2.0",
          "state": {
            "_model_module": "@jupyter-widgets/base",
            "_model_module_version": "1.2.0",
            "_model_name": "LayoutModel",
            "_view_count": null,
            "_view_module": "@jupyter-widgets/base",
            "_view_module_version": "1.2.0",
            "_view_name": "LayoutView",
            "align_content": null,
            "align_items": null,
            "align_self": null,
            "border": null,
            "bottom": null,
            "display": null,
            "flex": null,
            "flex_flow": null,
            "grid_area": null,
            "grid_auto_columns": null,
            "grid_auto_flow": null,
            "grid_auto_rows": null,
            "grid_column": null,
            "grid_gap": null,
            "grid_row": null,
            "grid_template_areas": null,
            "grid_template_columns": null,
            "grid_template_rows": null,
            "height": null,
            "justify_content": null,
            "justify_items": null,
            "left": null,
            "margin": null,
            "max_height": null,
            "max_width": null,
            "min_height": null,
            "min_width": null,
            "object_fit": null,
            "object_position": null,
            "order": null,
            "overflow": null,
            "overflow_x": null,
            "overflow_y": null,
            "padding": null,
            "right": null,
            "top": null,
            "visibility": "hidden",
            "width": null
          }
        },
        "ed2b10d4ff3c4ebea41a9348dc8ed31c": {
          "model_module": "@jupyter-widgets/base",
          "model_name": "LayoutModel",
          "model_module_version": "1.2.0",
          "state": {
            "_model_module": "@jupyter-widgets/base",
            "_model_module_version": "1.2.0",
            "_model_name": "LayoutModel",
            "_view_count": null,
            "_view_module": "@jupyter-widgets/base",
            "_view_module_version": "1.2.0",
            "_view_name": "LayoutView",
            "align_content": null,
            "align_items": null,
            "align_self": null,
            "border": null,
            "bottom": null,
            "display": null,
            "flex": null,
            "flex_flow": null,
            "grid_area": null,
            "grid_auto_columns": null,
            "grid_auto_flow": null,
            "grid_auto_rows": null,
            "grid_column": null,
            "grid_gap": null,
            "grid_row": null,
            "grid_template_areas": null,
            "grid_template_columns": null,
            "grid_template_rows": null,
            "height": null,
            "justify_content": null,
            "justify_items": null,
            "left": null,
            "margin": null,
            "max_height": null,
            "max_width": null,
            "min_height": null,
            "min_width": null,
            "object_fit": null,
            "object_position": null,
            "order": null,
            "overflow": null,
            "overflow_x": null,
            "overflow_y": null,
            "padding": null,
            "right": null,
            "top": null,
            "visibility": null,
            "width": null
          }
        },
        "0ab990aebe5a465f88da26b384e8fd12": {
          "model_module": "@jupyter-widgets/controls",
          "model_name": "DescriptionStyleModel",
          "model_module_version": "1.5.0",
          "state": {
            "_model_module": "@jupyter-widgets/controls",
            "_model_module_version": "1.5.0",
            "_model_name": "DescriptionStyleModel",
            "_view_count": null,
            "_view_module": "@jupyter-widgets/base",
            "_view_module_version": "1.2.0",
            "_view_name": "StyleView",
            "description_width": ""
          }
        },
        "80d7865457074ea09f27022f5f904117": {
          "model_module": "@jupyter-widgets/base",
          "model_name": "LayoutModel",
          "model_module_version": "1.2.0",
          "state": {
            "_model_module": "@jupyter-widgets/base",
            "_model_module_version": "1.2.0",
            "_model_name": "LayoutModel",
            "_view_count": null,
            "_view_module": "@jupyter-widgets/base",
            "_view_module_version": "1.2.0",
            "_view_name": "LayoutView",
            "align_content": null,
            "align_items": null,
            "align_self": null,
            "border": null,
            "bottom": null,
            "display": null,
            "flex": null,
            "flex_flow": null,
            "grid_area": null,
            "grid_auto_columns": null,
            "grid_auto_flow": null,
            "grid_auto_rows": null,
            "grid_column": null,
            "grid_gap": null,
            "grid_row": null,
            "grid_template_areas": null,
            "grid_template_columns": null,
            "grid_template_rows": null,
            "height": null,
            "justify_content": null,
            "justify_items": null,
            "left": null,
            "margin": null,
            "max_height": null,
            "max_width": null,
            "min_height": null,
            "min_width": null,
            "object_fit": null,
            "object_position": null,
            "order": null,
            "overflow": null,
            "overflow_x": null,
            "overflow_y": null,
            "padding": null,
            "right": null,
            "top": null,
            "visibility": null,
            "width": null
          }
        },
        "aea8d12329e047f0a7c9d10fd4ec55fb": {
          "model_module": "@jupyter-widgets/controls",
          "model_name": "ProgressStyleModel",
          "model_module_version": "1.5.0",
          "state": {
            "_model_module": "@jupyter-widgets/controls",
            "_model_module_version": "1.5.0",
            "_model_name": "ProgressStyleModel",
            "_view_count": null,
            "_view_module": "@jupyter-widgets/base",
            "_view_module_version": "1.2.0",
            "_view_name": "StyleView",
            "bar_color": null,
            "description_width": ""
          }
        },
        "e19acb40792f4ec9a75122a9d1a1d545": {
          "model_module": "@jupyter-widgets/base",
          "model_name": "LayoutModel",
          "model_module_version": "1.2.0",
          "state": {
            "_model_module": "@jupyter-widgets/base",
            "_model_module_version": "1.2.0",
            "_model_name": "LayoutModel",
            "_view_count": null,
            "_view_module": "@jupyter-widgets/base",
            "_view_module_version": "1.2.0",
            "_view_name": "LayoutView",
            "align_content": null,
            "align_items": null,
            "align_self": null,
            "border": null,
            "bottom": null,
            "display": null,
            "flex": null,
            "flex_flow": null,
            "grid_area": null,
            "grid_auto_columns": null,
            "grid_auto_flow": null,
            "grid_auto_rows": null,
            "grid_column": null,
            "grid_gap": null,
            "grid_row": null,
            "grid_template_areas": null,
            "grid_template_columns": null,
            "grid_template_rows": null,
            "height": null,
            "justify_content": null,
            "justify_items": null,
            "left": null,
            "margin": null,
            "max_height": null,
            "max_width": null,
            "min_height": null,
            "min_width": null,
            "object_fit": null,
            "object_position": null,
            "order": null,
            "overflow": null,
            "overflow_x": null,
            "overflow_y": null,
            "padding": null,
            "right": null,
            "top": null,
            "visibility": null,
            "width": null
          }
        },
        "979cda5d0dc942aabd9bad8d28101c58": {
          "model_module": "@jupyter-widgets/controls",
          "model_name": "DescriptionStyleModel",
          "model_module_version": "1.5.0",
          "state": {
            "_model_module": "@jupyter-widgets/controls",
            "_model_module_version": "1.5.0",
            "_model_name": "DescriptionStyleModel",
            "_view_count": null,
            "_view_module": "@jupyter-widgets/base",
            "_view_module_version": "1.2.0",
            "_view_name": "StyleView",
            "description_width": ""
          }
        }
      }
    }
  },
  "cells": [
    {
      "cell_type": "markdown",
      "metadata": {
        "id": "view-in-github",
        "colab_type": "text"
      },
      "source": [
        "<a href=\"https://colab.research.google.com/github/Saurabh17jain/Project/blob/main/Project.ipynb\" target=\"_parent\"><img src=\"https://colab.research.google.com/assets/colab-badge.svg\" alt=\"Open In Colab\"/></a>"
      ]
    },
    {
      "cell_type": "code",
      "execution_count": 18,
      "metadata": {
        "colab": {
          "base_uri": "https://localhost:8080/"
        },
        "id": "hKNlTbq09Zp6",
        "outputId": "c3072f3c-f70c-471b-8284-812bd2324aad"
      },
      "outputs": [
        {
          "output_type": "stream",
          "name": "stdout",
          "text": [
            "Pycaret installed sucessfully!!\n"
          ]
        }
      ],
      "source": [
        "!pip install pycaret &> /dev/null\n",
        "print (\"Pycaret installed sucessfully!!\")"
      ]
    },
    {
      "cell_type": "code",
      "source": [
        "from pycaret.utils import version\n",
        "version()"
      ],
      "metadata": {
        "colab": {
          "base_uri": "https://localhost:8080/",
          "height": 35
        },
        "id": "8BPfRtlqBFXk",
        "outputId": "de3378fa-c584-45b2-9dad-fbe56572c441"
      },
      "execution_count": 19,
      "outputs": [
        {
          "output_type": "execute_result",
          "data": {
            "text/plain": [
              "'3.3.2'"
            ],
            "application/vnd.google.colaboratory.intrinsic+json": {
              "type": "string"
            }
          },
          "metadata": {},
          "execution_count": 19
        }
      ]
    },
    {
      "cell_type": "code",
      "source": [
        "from pycaret.regression import *\n",
        "import pandas as pd\n"
      ],
      "metadata": {
        "id": "JxReqTvSBR4p"
      },
      "execution_count": 20,
      "outputs": []
    },
    {
      "cell_type": "code",
      "source": [
        "from pycaret.regression import *\n",
        "from sklearn.model_selection import train_test_split\n",
        "import pandas as pd\n",
        "\n",
        "# Load your dataset\n",
        "df = pd.read_csv('Fuel_cell_performance_data-Full.csv')"
      ],
      "metadata": {
        "id": "6TjMJjZwBUE7"
      },
      "execution_count": 21,
      "outputs": []
    },
    {
      "cell_type": "code",
      "source": [
        "if df.isnull().sum().sum() > 0:\n",
        "    print(\"\\nHandling missing values...\")\n",
        "    df = df.dropna()  # You can modify this step based on your requirements\n",
        "\n",
        "# Step 3: Select Target Based on Roll Number\n",
        "# Replace 'your_roll_number' with your actual roll number.\n",
        "roll_number = \"102203677\"  # Example roll number\n",
        "last_digit = int(roll_number[-1])\n",
        "\n",
        "# Map roll number ending to target\n",
        "target_map = {\n",
        "    0: \"Target1\", 5: \"Target1\",\n",
        "    1: \"Target2\", 6: \"Target2\",\n",
        "    2: \"Target3\", 7: \"Target3\",\n",
        "    3: \"Target4\", 8: \"Target4\",\n",
        "    4: \"Target5\", 9: \"Target5\"\n",
        "}\n",
        "selected_target = target_map[last_digit]\n",
        "print(f\"\\nSelected Target: {selected_target}\")\n",
        "\n",
        "# Drop other targets\n",
        "df = df[[selected_target, *df.columns.difference([selected_target])]]\n",
        "\n",
        "# Step 4: Split Dataset (70/30)\n",
        "X = df.drop(columns=[selected_target])  # Features\n",
        "y = df[selected_target]  # Target\n",
        "\n",
        "X_train, X_test, y_train, y_test = train_test_split(X, y, test_size=0.3, random_state=42)"
      ],
      "metadata": {
        "colab": {
          "base_uri": "https://localhost:8080/"
        },
        "id": "WDaWaqKUBXmm",
        "outputId": "7767db61-b1d4-4e83-85cd-fd0e5ffda7d5"
      },
      "execution_count": 22,
      "outputs": [
        {
          "output_type": "stream",
          "name": "stdout",
          "text": [
            "\n",
            "Selected Target: Target3\n"
          ]
        }
      ]
    },
    {
      "cell_type": "code",
      "source": [
        "df_pycaret = pd.concat([y, X], axis=1)  # PyCaret requires the target column in the dataset\n",
        "s = setup(data=df_pycaret, target=selected_target,\n",
        "          remove_outliers=True, outliers_threshold=0.05,\n",
        "          normalize=True, normalize_method='zscore',\n",
        "          transformation=True, transformation_method='yeo-johnson',\n",
        "          data_split_shuffle=False, verbose=False)"
      ],
      "metadata": {
        "id": "UzKD3WFnBYXM"
      },
      "execution_count": 23,
      "outputs": []
    },
    {
      "cell_type": "code",
      "source": [
        "cm = compare_models()"
      ],
      "metadata": {
        "colab": {
          "base_uri": "https://localhost:8080/",
          "height": 645,
          "referenced_widgets": [
            "6db19ab59879483b8ff14feab226f951",
            "053b352d06bc4d5a92dbab1112f62fa7",
            "9c158c191e7c4c1f92076c57f58d60af",
            "007ff67bd3414f9fa3d9f82e08fdbbac",
            "9f93c78d4a7e4d16a8659382e7adaf3b",
            "ed2b10d4ff3c4ebea41a9348dc8ed31c",
            "0ab990aebe5a465f88da26b384e8fd12",
            "80d7865457074ea09f27022f5f904117",
            "aea8d12329e047f0a7c9d10fd4ec55fb",
            "e19acb40792f4ec9a75122a9d1a1d545",
            "979cda5d0dc942aabd9bad8d28101c58"
          ]
        },
        "id": "oMzpswRBBbOw",
        "outputId": "feb6a489-4102-4f12-8590-c9c90c0dfe75"
      },
      "execution_count": 24,
      "outputs": [
        {
          "output_type": "display_data",
          "data": {
            "text/plain": [
              "<IPython.core.display.HTML object>"
            ],
            "text/html": []
          },
          "metadata": {}
        },
        {
          "output_type": "display_data",
          "data": {
            "text/plain": [
              "<pandas.io.formats.style.Styler at 0x7d01ac50b340>"
            ],
            "text/html": [
              "<style type=\"text/css\">\n",
              "#T_60a71 th {\n",
              "  text-align: left;\n",
              "}\n",
              "#T_60a71_row0_col0, #T_60a71_row1_col0, #T_60a71_row1_col1, #T_60a71_row1_col2, #T_60a71_row1_col3, #T_60a71_row1_col4, #T_60a71_row1_col5, #T_60a71_row2_col0, #T_60a71_row2_col1, #T_60a71_row2_col2, #T_60a71_row2_col3, #T_60a71_row2_col4, #T_60a71_row2_col5, #T_60a71_row3_col0, #T_60a71_row3_col1, #T_60a71_row3_col2, #T_60a71_row3_col3, #T_60a71_row3_col4, #T_60a71_row3_col5, #T_60a71_row4_col0, #T_60a71_row4_col1, #T_60a71_row4_col2, #T_60a71_row4_col3, #T_60a71_row4_col4, #T_60a71_row4_col5, #T_60a71_row5_col0, #T_60a71_row5_col1, #T_60a71_row5_col2, #T_60a71_row5_col3, #T_60a71_row5_col4, #T_60a71_row5_col5, #T_60a71_row6_col0, #T_60a71_row6_col1, #T_60a71_row6_col2, #T_60a71_row6_col3, #T_60a71_row6_col4, #T_60a71_row6_col5, #T_60a71_row6_col6, #T_60a71_row7_col0, #T_60a71_row7_col1, #T_60a71_row7_col2, #T_60a71_row7_col3, #T_60a71_row7_col4, #T_60a71_row7_col5, #T_60a71_row7_col6, #T_60a71_row8_col0, #T_60a71_row8_col1, #T_60a71_row8_col2, #T_60a71_row8_col3, #T_60a71_row8_col4, #T_60a71_row8_col5, #T_60a71_row8_col6, #T_60a71_row9_col0, #T_60a71_row9_col1, #T_60a71_row9_col2, #T_60a71_row9_col3, #T_60a71_row9_col4, #T_60a71_row9_col5, #T_60a71_row9_col6, #T_60a71_row10_col0, #T_60a71_row10_col1, #T_60a71_row10_col2, #T_60a71_row10_col3, #T_60a71_row10_col4, #T_60a71_row10_col5, #T_60a71_row10_col6, #T_60a71_row11_col0, #T_60a71_row11_col1, #T_60a71_row11_col2, #T_60a71_row11_col3, #T_60a71_row11_col4, #T_60a71_row11_col5, #T_60a71_row11_col6, #T_60a71_row12_col0, #T_60a71_row12_col1, #T_60a71_row12_col2, #T_60a71_row12_col3, #T_60a71_row12_col4, #T_60a71_row12_col5, #T_60a71_row12_col6, #T_60a71_row13_col0, #T_60a71_row13_col1, #T_60a71_row13_col2, #T_60a71_row13_col3, #T_60a71_row13_col4, #T_60a71_row13_col5, #T_60a71_row13_col6, #T_60a71_row14_col0, #T_60a71_row14_col1, #T_60a71_row14_col2, #T_60a71_row14_col3, #T_60a71_row14_col4, #T_60a71_row14_col5, #T_60a71_row14_col6, #T_60a71_row15_col0, #T_60a71_row15_col1, #T_60a71_row15_col2, #T_60a71_row15_col3, #T_60a71_row15_col4, #T_60a71_row15_col5, #T_60a71_row15_col6, #T_60a71_row16_col0, #T_60a71_row16_col1, #T_60a71_row16_col2, #T_60a71_row16_col3, #T_60a71_row16_col4, #T_60a71_row16_col5, #T_60a71_row16_col6, #T_60a71_row17_col0, #T_60a71_row17_col1, #T_60a71_row17_col2, #T_60a71_row17_col3, #T_60a71_row17_col4, #T_60a71_row17_col5, #T_60a71_row17_col6, #T_60a71_row18_col0, #T_60a71_row18_col1, #T_60a71_row18_col2, #T_60a71_row18_col3, #T_60a71_row18_col4, #T_60a71_row18_col5, #T_60a71_row18_col6 {\n",
              "  text-align: left;\n",
              "}\n",
              "#T_60a71_row0_col1, #T_60a71_row0_col2, #T_60a71_row0_col3, #T_60a71_row0_col4, #T_60a71_row0_col5, #T_60a71_row0_col6, #T_60a71_row1_col6, #T_60a71_row2_col6, #T_60a71_row3_col6, #T_60a71_row4_col6, #T_60a71_row5_col6 {\n",
              "  text-align: left;\n",
              "  background-color: yellow;\n",
              "}\n",
              "#T_60a71_row0_col7 {\n",
              "  text-align: left;\n",
              "  background-color: yellow;\n",
              "  background-color: lightgrey;\n",
              "}\n",
              "#T_60a71_row1_col7, #T_60a71_row2_col7, #T_60a71_row3_col7, #T_60a71_row4_col7, #T_60a71_row5_col7, #T_60a71_row6_col7, #T_60a71_row7_col7, #T_60a71_row8_col7, #T_60a71_row9_col7, #T_60a71_row10_col7, #T_60a71_row11_col7, #T_60a71_row12_col7, #T_60a71_row13_col7, #T_60a71_row14_col7, #T_60a71_row15_col7, #T_60a71_row16_col7, #T_60a71_row17_col7, #T_60a71_row18_col7 {\n",
              "  text-align: left;\n",
              "  background-color: lightgrey;\n",
              "}\n",
              "</style>\n",
              "<table id=\"T_60a71\" class=\"dataframe\">\n",
              "  <thead>\n",
              "    <tr>\n",
              "      <th class=\"blank level0\" >&nbsp;</th>\n",
              "      <th id=\"T_60a71_level0_col0\" class=\"col_heading level0 col0\" >Model</th>\n",
              "      <th id=\"T_60a71_level0_col1\" class=\"col_heading level0 col1\" >MAE</th>\n",
              "      <th id=\"T_60a71_level0_col2\" class=\"col_heading level0 col2\" >MSE</th>\n",
              "      <th id=\"T_60a71_level0_col3\" class=\"col_heading level0 col3\" >RMSE</th>\n",
              "      <th id=\"T_60a71_level0_col4\" class=\"col_heading level0 col4\" >R2</th>\n",
              "      <th id=\"T_60a71_level0_col5\" class=\"col_heading level0 col5\" >RMSLE</th>\n",
              "      <th id=\"T_60a71_level0_col6\" class=\"col_heading level0 col6\" >MAPE</th>\n",
              "      <th id=\"T_60a71_level0_col7\" class=\"col_heading level0 col7\" >TT (Sec)</th>\n",
              "    </tr>\n",
              "  </thead>\n",
              "  <tbody>\n",
              "    <tr>\n",
              "      <th id=\"T_60a71_level0_row0\" class=\"row_heading level0 row0\" >omp</th>\n",
              "      <td id=\"T_60a71_row0_col0\" class=\"data row0 col0\" >Orthogonal Matching Pursuit</td>\n",
              "      <td id=\"T_60a71_row0_col1\" class=\"data row0 col1\" >1.4735</td>\n",
              "      <td id=\"T_60a71_row0_col2\" class=\"data row0 col2\" >3.5188</td>\n",
              "      <td id=\"T_60a71_row0_col3\" class=\"data row0 col3\" >1.8720</td>\n",
              "      <td id=\"T_60a71_row0_col4\" class=\"data row0 col4\" >0.8664</td>\n",
              "      <td id=\"T_60a71_row0_col5\" class=\"data row0 col5\" >0.0270</td>\n",
              "      <td id=\"T_60a71_row0_col6\" class=\"data row0 col6\" >0.0216</td>\n",
              "      <td id=\"T_60a71_row0_col7\" class=\"data row0 col7\" >0.2400</td>\n",
              "    </tr>\n",
              "    <tr>\n",
              "      <th id=\"T_60a71_level0_row1\" class=\"row_heading level0 row1\" >huber</th>\n",
              "      <td id=\"T_60a71_row1_col0\" class=\"data row1 col0\" >Huber Regressor</td>\n",
              "      <td id=\"T_60a71_row1_col1\" class=\"data row1 col1\" >1.4763</td>\n",
              "      <td id=\"T_60a71_row1_col2\" class=\"data row1 col2\" >3.5547</td>\n",
              "      <td id=\"T_60a71_row1_col3\" class=\"data row1 col3\" >1.8821</td>\n",
              "      <td id=\"T_60a71_row1_col4\" class=\"data row1 col4\" >0.8655</td>\n",
              "      <td id=\"T_60a71_row1_col5\" class=\"data row1 col5\" >0.0271</td>\n",
              "      <td id=\"T_60a71_row1_col6\" class=\"data row1 col6\" >0.0216</td>\n",
              "      <td id=\"T_60a71_row1_col7\" class=\"data row1 col7\" >0.2560</td>\n",
              "    </tr>\n",
              "    <tr>\n",
              "      <th id=\"T_60a71_level0_row2\" class=\"row_heading level0 row2\" >br</th>\n",
              "      <td id=\"T_60a71_row2_col0\" class=\"data row2 col0\" >Bayesian Ridge</td>\n",
              "      <td id=\"T_60a71_row2_col1\" class=\"data row2 col1\" >1.4749</td>\n",
              "      <td id=\"T_60a71_row2_col2\" class=\"data row2 col2\" >3.5602</td>\n",
              "      <td id=\"T_60a71_row2_col3\" class=\"data row2 col3\" >1.8833</td>\n",
              "      <td id=\"T_60a71_row2_col4\" class=\"data row2 col4\" >0.8653</td>\n",
              "      <td id=\"T_60a71_row2_col5\" class=\"data row2 col5\" >0.0272</td>\n",
              "      <td id=\"T_60a71_row2_col6\" class=\"data row2 col6\" >0.0216</td>\n",
              "      <td id=\"T_60a71_row2_col7\" class=\"data row2 col7\" >0.4230</td>\n",
              "    </tr>\n",
              "    <tr>\n",
              "      <th id=\"T_60a71_level0_row3\" class=\"row_heading level0 row3\" >lr</th>\n",
              "      <td id=\"T_60a71_row3_col0\" class=\"data row3 col0\" >Linear Regression</td>\n",
              "      <td id=\"T_60a71_row3_col1\" class=\"data row3 col1\" >1.4755</td>\n",
              "      <td id=\"T_60a71_row3_col2\" class=\"data row3 col2\" >3.5617</td>\n",
              "      <td id=\"T_60a71_row3_col3\" class=\"data row3 col3\" >1.8837</td>\n",
              "      <td id=\"T_60a71_row3_col4\" class=\"data row3 col4\" >0.8652</td>\n",
              "      <td id=\"T_60a71_row3_col5\" class=\"data row3 col5\" >0.0272</td>\n",
              "      <td id=\"T_60a71_row3_col6\" class=\"data row3 col6\" >0.0216</td>\n",
              "      <td id=\"T_60a71_row3_col7\" class=\"data row3 col7\" >0.6300</td>\n",
              "    </tr>\n",
              "    <tr>\n",
              "      <th id=\"T_60a71_level0_row4\" class=\"row_heading level0 row4\" >ridge</th>\n",
              "      <td id=\"T_60a71_row4_col0\" class=\"data row4 col0\" >Ridge Regression</td>\n",
              "      <td id=\"T_60a71_row4_col1\" class=\"data row4 col1\" >1.4752</td>\n",
              "      <td id=\"T_60a71_row4_col2\" class=\"data row4 col2\" >3.5608</td>\n",
              "      <td id=\"T_60a71_row4_col3\" class=\"data row4 col3\" >1.8835</td>\n",
              "      <td id=\"T_60a71_row4_col4\" class=\"data row4 col4\" >0.8652</td>\n",
              "      <td id=\"T_60a71_row4_col5\" class=\"data row4 col5\" >0.0272</td>\n",
              "      <td id=\"T_60a71_row4_col6\" class=\"data row4 col6\" >0.0216</td>\n",
              "      <td id=\"T_60a71_row4_col7\" class=\"data row4 col7\" >0.6980</td>\n",
              "    </tr>\n",
              "    <tr>\n",
              "      <th id=\"T_60a71_level0_row5\" class=\"row_heading level0 row5\" >lar</th>\n",
              "      <td id=\"T_60a71_row5_col0\" class=\"data row5 col0\" >Least Angle Regression</td>\n",
              "      <td id=\"T_60a71_row5_col1\" class=\"data row5 col1\" >1.4759</td>\n",
              "      <td id=\"T_60a71_row5_col2\" class=\"data row5 col2\" >3.5802</td>\n",
              "      <td id=\"T_60a71_row5_col3\" class=\"data row5 col3\" >1.8884</td>\n",
              "      <td id=\"T_60a71_row5_col4\" class=\"data row5 col4\" >0.8644</td>\n",
              "      <td id=\"T_60a71_row5_col5\" class=\"data row5 col5\" >0.0272</td>\n",
              "      <td id=\"T_60a71_row5_col6\" class=\"data row5 col6\" >0.0216</td>\n",
              "      <td id=\"T_60a71_row5_col7\" class=\"data row5 col7\" >0.2410</td>\n",
              "    </tr>\n",
              "    <tr>\n",
              "      <th id=\"T_60a71_level0_row6\" class=\"row_heading level0 row6\" >et</th>\n",
              "      <td id=\"T_60a71_row6_col0\" class=\"data row6 col0\" >Extra Trees Regressor</td>\n",
              "      <td id=\"T_60a71_row6_col1\" class=\"data row6 col1\" >1.4932</td>\n",
              "      <td id=\"T_60a71_row6_col2\" class=\"data row6 col2\" >3.5788</td>\n",
              "      <td id=\"T_60a71_row6_col3\" class=\"data row6 col3\" >1.8870</td>\n",
              "      <td id=\"T_60a71_row6_col4\" class=\"data row6 col4\" >0.8634</td>\n",
              "      <td id=\"T_60a71_row6_col5\" class=\"data row6 col5\" >0.0274</td>\n",
              "      <td id=\"T_60a71_row6_col6\" class=\"data row6 col6\" >0.0219</td>\n",
              "      <td id=\"T_60a71_row6_col7\" class=\"data row6 col7\" >0.8020</td>\n",
              "    </tr>\n",
              "    <tr>\n",
              "      <th id=\"T_60a71_level0_row7\" class=\"row_heading level0 row7\" >rf</th>\n",
              "      <td id=\"T_60a71_row7_col0\" class=\"data row7 col0\" >Random Forest Regressor</td>\n",
              "      <td id=\"T_60a71_row7_col1\" class=\"data row7 col1\" >1.5088</td>\n",
              "      <td id=\"T_60a71_row7_col2\" class=\"data row7 col2\" >3.6580</td>\n",
              "      <td id=\"T_60a71_row7_col3\" class=\"data row7 col3\" >1.9049</td>\n",
              "      <td id=\"T_60a71_row7_col4\" class=\"data row7 col4\" >0.8602</td>\n",
              "      <td id=\"T_60a71_row7_col5\" class=\"data row7 col5\" >0.0276</td>\n",
              "      <td id=\"T_60a71_row7_col6\" class=\"data row7 col6\" >0.0222</td>\n",
              "      <td id=\"T_60a71_row7_col7\" class=\"data row7 col7\" >1.1610</td>\n",
              "    </tr>\n",
              "    <tr>\n",
              "      <th id=\"T_60a71_level0_row8\" class=\"row_heading level0 row8\" >gbr</th>\n",
              "      <td id=\"T_60a71_row8_col0\" class=\"data row8 col0\" >Gradient Boosting Regressor</td>\n",
              "      <td id=\"T_60a71_row8_col1\" class=\"data row8 col1\" >1.5356</td>\n",
              "      <td id=\"T_60a71_row8_col2\" class=\"data row8 col2\" >3.8457</td>\n",
              "      <td id=\"T_60a71_row8_col3\" class=\"data row8 col3\" >1.9560</td>\n",
              "      <td id=\"T_60a71_row8_col4\" class=\"data row8 col4\" >0.8548</td>\n",
              "      <td id=\"T_60a71_row8_col5\" class=\"data row8 col5\" >0.0283</td>\n",
              "      <td id=\"T_60a71_row8_col6\" class=\"data row8 col6\" >0.0226</td>\n",
              "      <td id=\"T_60a71_row8_col7\" class=\"data row8 col7\" >0.5740</td>\n",
              "    </tr>\n",
              "    <tr>\n",
              "      <th id=\"T_60a71_level0_row9\" class=\"row_heading level0 row9\" >lightgbm</th>\n",
              "      <td id=\"T_60a71_row9_col0\" class=\"data row9 col0\" >Light Gradient Boosting Machine</td>\n",
              "      <td id=\"T_60a71_row9_col1\" class=\"data row9 col1\" >1.5716</td>\n",
              "      <td id=\"T_60a71_row9_col2\" class=\"data row9 col2\" >3.8764</td>\n",
              "      <td id=\"T_60a71_row9_col3\" class=\"data row9 col3\" >1.9636</td>\n",
              "      <td id=\"T_60a71_row9_col4\" class=\"data row9 col4\" >0.8523</td>\n",
              "      <td id=\"T_60a71_row9_col5\" class=\"data row9 col5\" >0.0285</td>\n",
              "      <td id=\"T_60a71_row9_col6\" class=\"data row9 col6\" >0.0231</td>\n",
              "      <td id=\"T_60a71_row9_col7\" class=\"data row9 col7\" >0.5470</td>\n",
              "    </tr>\n",
              "    <tr>\n",
              "      <th id=\"T_60a71_level0_row10\" class=\"row_heading level0 row10\" >ada</th>\n",
              "      <td id=\"T_60a71_row10_col0\" class=\"data row10 col0\" >AdaBoost Regressor</td>\n",
              "      <td id=\"T_60a71_row10_col1\" class=\"data row10 col1\" >1.5415</td>\n",
              "      <td id=\"T_60a71_row10_col2\" class=\"data row10 col2\" >3.9247</td>\n",
              "      <td id=\"T_60a71_row10_col3\" class=\"data row10 col3\" >1.9745</td>\n",
              "      <td id=\"T_60a71_row10_col4\" class=\"data row10 col4\" >0.8516</td>\n",
              "      <td id=\"T_60a71_row10_col5\" class=\"data row10 col5\" >0.0286</td>\n",
              "      <td id=\"T_60a71_row10_col6\" class=\"data row10 col6\" >0.0227</td>\n",
              "      <td id=\"T_60a71_row10_col7\" class=\"data row10 col7\" >0.4340</td>\n",
              "    </tr>\n",
              "    <tr>\n",
              "      <th id=\"T_60a71_level0_row11\" class=\"row_heading level0 row11\" >xgboost</th>\n",
              "      <td id=\"T_60a71_row11_col0\" class=\"data row11 col0\" >Extreme Gradient Boosting</td>\n",
              "      <td id=\"T_60a71_row11_col1\" class=\"data row11 col1\" >1.6451</td>\n",
              "      <td id=\"T_60a71_row11_col2\" class=\"data row11 col2\" >4.4126</td>\n",
              "      <td id=\"T_60a71_row11_col3\" class=\"data row11 col3\" >2.0900</td>\n",
              "      <td id=\"T_60a71_row11_col4\" class=\"data row11 col4\" >0.8317</td>\n",
              "      <td id=\"T_60a71_row11_col5\" class=\"data row11 col5\" >0.0304</td>\n",
              "      <td id=\"T_60a71_row11_col6\" class=\"data row11 col6\" >0.0242</td>\n",
              "      <td id=\"T_60a71_row11_col7\" class=\"data row11 col7\" >0.9110</td>\n",
              "    </tr>\n",
              "    <tr>\n",
              "      <th id=\"T_60a71_level0_row12\" class=\"row_heading level0 row12\" >lasso</th>\n",
              "      <td id=\"T_60a71_row12_col0\" class=\"data row12 col0\" >Lasso Regression</td>\n",
              "      <td id=\"T_60a71_row12_col1\" class=\"data row12 col1\" >1.6875</td>\n",
              "      <td id=\"T_60a71_row12_col2\" class=\"data row12 col2\" >4.5853</td>\n",
              "      <td id=\"T_60a71_row12_col3\" class=\"data row12 col3\" >2.1325</td>\n",
              "      <td id=\"T_60a71_row12_col4\" class=\"data row12 col4\" >0.8298</td>\n",
              "      <td id=\"T_60a71_row12_col5\" class=\"data row12 col5\" >0.0312</td>\n",
              "      <td id=\"T_60a71_row12_col6\" class=\"data row12 col6\" >0.0250</td>\n",
              "      <td id=\"T_60a71_row12_col7\" class=\"data row12 col7\" >0.4720</td>\n",
              "    </tr>\n",
              "    <tr>\n",
              "      <th id=\"T_60a71_level0_row13\" class=\"row_heading level0 row13\" >llar</th>\n",
              "      <td id=\"T_60a71_row13_col0\" class=\"data row13 col0\" >Lasso Least Angle Regression</td>\n",
              "      <td id=\"T_60a71_row13_col1\" class=\"data row13 col1\" >1.6875</td>\n",
              "      <td id=\"T_60a71_row13_col2\" class=\"data row13 col2\" >4.5853</td>\n",
              "      <td id=\"T_60a71_row13_col3\" class=\"data row13 col3\" >2.1325</td>\n",
              "      <td id=\"T_60a71_row13_col4\" class=\"data row13 col4\" >0.8298</td>\n",
              "      <td id=\"T_60a71_row13_col5\" class=\"data row13 col5\" >0.0312</td>\n",
              "      <td id=\"T_60a71_row13_col6\" class=\"data row13 col6\" >0.0250</td>\n",
              "      <td id=\"T_60a71_row13_col7\" class=\"data row13 col7\" >0.2460</td>\n",
              "    </tr>\n",
              "    <tr>\n",
              "      <th id=\"T_60a71_level0_row14\" class=\"row_heading level0 row14\" >par</th>\n",
              "      <td id=\"T_60a71_row14_col0\" class=\"data row14 col0\" >Passive Aggressive Regressor</td>\n",
              "      <td id=\"T_60a71_row14_col1\" class=\"data row14 col1\" >2.1102</td>\n",
              "      <td id=\"T_60a71_row14_col2\" class=\"data row14 col2\" >7.1125</td>\n",
              "      <td id=\"T_60a71_row14_col3\" class=\"data row14 col3\" >2.6372</td>\n",
              "      <td id=\"T_60a71_row14_col4\" class=\"data row14 col4\" >0.7357</td>\n",
              "      <td id=\"T_60a71_row14_col5\" class=\"data row14 col5\" >0.0383</td>\n",
              "      <td id=\"T_60a71_row14_col6\" class=\"data row14 col6\" >0.0311</td>\n",
              "      <td id=\"T_60a71_row14_col7\" class=\"data row14 col7\" >0.2860</td>\n",
              "    </tr>\n",
              "    <tr>\n",
              "      <th id=\"T_60a71_level0_row15\" class=\"row_heading level0 row15\" >en</th>\n",
              "      <td id=\"T_60a71_row15_col0\" class=\"data row15 col0\" >Elastic Net</td>\n",
              "      <td id=\"T_60a71_row15_col1\" class=\"data row15 col1\" >2.1906</td>\n",
              "      <td id=\"T_60a71_row15_col2\" class=\"data row15 col2\" >7.3547</td>\n",
              "      <td id=\"T_60a71_row15_col3\" class=\"data row15 col3\" >2.6969</td>\n",
              "      <td id=\"T_60a71_row15_col4\" class=\"data row15 col4\" >0.7300</td>\n",
              "      <td id=\"T_60a71_row15_col5\" class=\"data row15 col5\" >0.0396</td>\n",
              "      <td id=\"T_60a71_row15_col6\" class=\"data row15 col6\" >0.0326</td>\n",
              "      <td id=\"T_60a71_row15_col7\" class=\"data row15 col7\" >0.6860</td>\n",
              "    </tr>\n",
              "    <tr>\n",
              "      <th id=\"T_60a71_level0_row16\" class=\"row_heading level0 row16\" >dt</th>\n",
              "      <td id=\"T_60a71_row16_col0\" class=\"data row16 col0\" >Decision Tree Regressor</td>\n",
              "      <td id=\"T_60a71_row16_col1\" class=\"data row16 col1\" >2.1041</td>\n",
              "      <td id=\"T_60a71_row16_col2\" class=\"data row16 col2\" >7.1239</td>\n",
              "      <td id=\"T_60a71_row16_col3\" class=\"data row16 col3\" >2.6616</td>\n",
              "      <td id=\"T_60a71_row16_col4\" class=\"data row16 col4\" >0.7259</td>\n",
              "      <td id=\"T_60a71_row16_col5\" class=\"data row16 col5\" >0.0386</td>\n",
              "      <td id=\"T_60a71_row16_col6\" class=\"data row16 col6\" >0.0310</td>\n",
              "      <td id=\"T_60a71_row16_col7\" class=\"data row16 col7\" >0.2580</td>\n",
              "    </tr>\n",
              "    <tr>\n",
              "      <th id=\"T_60a71_level0_row17\" class=\"row_heading level0 row17\" >knn</th>\n",
              "      <td id=\"T_60a71_row17_col0\" class=\"data row17 col0\" >K Neighbors Regressor</td>\n",
              "      <td id=\"T_60a71_row17_col1\" class=\"data row17 col1\" >2.8845</td>\n",
              "      <td id=\"T_60a71_row17_col2\" class=\"data row17 col2\" >12.5928</td>\n",
              "      <td id=\"T_60a71_row17_col3\" class=\"data row17 col3\" >3.5309</td>\n",
              "      <td id=\"T_60a71_row17_col4\" class=\"data row17 col4\" >0.5360</td>\n",
              "      <td id=\"T_60a71_row17_col5\" class=\"data row17 col5\" >0.0516</td>\n",
              "      <td id=\"T_60a71_row17_col6\" class=\"data row17 col6\" >0.0427</td>\n",
              "      <td id=\"T_60a71_row17_col7\" class=\"data row17 col7\" >0.2450</td>\n",
              "    </tr>\n",
              "    <tr>\n",
              "      <th id=\"T_60a71_level0_row18\" class=\"row_heading level0 row18\" >dummy</th>\n",
              "      <td id=\"T_60a71_row18_col0\" class=\"data row18 col0\" >Dummy Regressor</td>\n",
              "      <td id=\"T_60a71_row18_col1\" class=\"data row18 col1\" >4.3340</td>\n",
              "      <td id=\"T_60a71_row18_col2\" class=\"data row18 col2\" >28.2972</td>\n",
              "      <td id=\"T_60a71_row18_col3\" class=\"data row18 col3\" >5.2966</td>\n",
              "      <td id=\"T_60a71_row18_col4\" class=\"data row18 col4\" >-0.0381</td>\n",
              "      <td id=\"T_60a71_row18_col5\" class=\"data row18 col5\" >0.0774</td>\n",
              "      <td id=\"T_60a71_row18_col6\" class=\"data row18 col6\" >0.0645</td>\n",
              "      <td id=\"T_60a71_row18_col7\" class=\"data row18 col7\" >0.3400</td>\n",
              "    </tr>\n",
              "  </tbody>\n",
              "</table>\n"
            ]
          },
          "metadata": {}
        },
        {
          "output_type": "display_data",
          "data": {
            "text/plain": [
              "Processing:   0%|          | 0/81 [00:00<?, ?it/s]"
            ],
            "application/vnd.jupyter.widget-view+json": {
              "version_major": 2,
              "version_minor": 0,
              "model_id": "6db19ab59879483b8ff14feab226f951"
            }
          },
          "metadata": {
            "application/vnd.jupyter.widget-view+json": {
              "colab": {
                "custom_widget_manager": {
                  "url": "https://ssl.gstatic.com/colaboratory-static/widgets/colab-cdn-widget-manager/2b70e893a8ba7c0f/manager.min.js"
                }
              }
            }
          }
        },
        {
          "output_type": "display_data",
          "data": {
            "text/plain": [
              "<IPython.core.display.HTML object>"
            ],
            "text/html": []
          },
          "metadata": {}
        }
      ]
    }
  ]
}